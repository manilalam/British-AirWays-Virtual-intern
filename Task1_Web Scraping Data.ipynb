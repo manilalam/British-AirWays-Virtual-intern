{
 "cells": [
  {
   "cell_type": "markdown",
   "id": "2cc97bd3",
   "metadata": {},
   "source": [
    "### Submitted By: LALAM BHANU MANI KANTA NAIDU"
   ]
  },
  {
   "cell_type": "markdown",
   "id": "29f1b1d5",
   "metadata": {},
   "source": [
    "# Task 1: Web Scraping to Gain Company Insights\n",
    "\n",
    "---\n",
    "\n",
    "## Web Scraping and Analysis\n",
    "\n",
    "This Jupyter notebook includes some code to get you started with web scraping. We will use a package called `BeautifulSoup` to collect the data from the web. Once you've collected your data and saved it into a local `.csv` file you should start with your analysis.\n",
    "\n",
    "### Scraping Data from Skytrax\n",
    "\n",
    "If you visit [https://www.airlinequality.com] you can see that there is a lot of data there. For this task, we are only interested in reviews related to British Airways and the Airline itself.\n",
    "\n",
    "If you navigate to this link: [https://www.airlinequality.com/airline-reviews/british-airways] you will see this data. Now, we can use `Python` and `BeautifulSoup` to collect all the links to the reviews and then to collect the text data on each of the individual review links."
   ]
  },
  {
   "cell_type": "markdown",
   "id": "62201bfd",
   "metadata": {},
   "source": [
    "## 1. Importing Required Libraries:"
   ]
  },
  {
   "cell_type": "code",
   "execution_count": 1,
   "id": "5929aaf6",
   "metadata": {},
   "outputs": [],
   "source": [
    "import requests\n",
    "from bs4 import BeautifulSoup\n",
    "import pandas as pd\n",
    "\n",
    "import warnings\n",
    "warnings.filterwarnings(\"ignore\")"
   ]
  },
  {
   "cell_type": "markdown",
   "id": "38ad3d3e",
   "metadata": {},
   "source": [
    "## 2. Scraping the reviews pages from the given website"
   ]
  },
  {
   "cell_type": "code",
   "execution_count": 2,
   "id": "522aaebe",
   "metadata": {},
   "outputs": [
    {
     "name": "stdout",
     "output_type": "stream",
     "text": [
      "Scraping page 1\n",
      "--> 100 total reviews\n",
      "Scraping page 2\n",
      "--> 200 total reviews\n",
      "Scraping page 3\n",
      "--> 300 total reviews\n",
      "Scraping page 4\n",
      "--> 400 total reviews\n",
      "Scraping page 5\n",
      "--> 500 total reviews\n",
      "Scraping page 6\n",
      "--> 600 total reviews\n",
      "Scraping page 7\n",
      "--> 700 total reviews\n",
      "Scraping page 8\n",
      "--> 800 total reviews\n",
      "Scraping page 9\n",
      "--> 900 total reviews\n",
      "Scraping page 10\n",
      "--> 1000 total reviews\n"
     ]
    }
   ],
   "source": [
    "base_url = \"https://www.airlinequality.com/airline-reviews/british-airways\"\n",
    "pages = 10 \n",
    "page_size = 100\n",
    "\n",
    "reviews = []\n",
    "aircraft = []\n",
    "seat_type = []\n",
    "route = []\n",
    "recommended = []\n",
    "df = pd.DataFrame()\n",
    "\n",
    "for i in range(1, pages + 1):\n",
    "    \n",
    "    rating = []\n",
    "    category = []\n",
    "\n",
    "    print(f\"Scraping page {i}\")\n",
    "\n",
    "    # Create URL to collect links from paginated data\n",
    "    url = f\"{base_url}/page/{i}/?sortby=post_date%3ADesc&pagesize={page_size}\"\n",
    "\n",
    "    # Collect HTML data from this page\n",
    "    response = requests.get(url)\n",
    "\n",
    "    # Parse content\n",
    "    content = response.content\n",
    "    parsed_content = BeautifulSoup(content, 'html.parser')\n",
    "    for para in parsed_content.find_all(\"div\", {\"class\": \"text_content\"}):\n",
    "        reviews.append(para.get_text())\n",
    "        \n",
    "    for para2 in parsed_content.find_all(\"div\", {\"class\": \"review-stats\"}):\n",
    "        for para3 in para2.find_all('td',{'class': 'review-value'}):\n",
    "            rating.append(para3.get_text())\n",
    "        recomend = rating[-1]\n",
    "        rating = rating[:-1]\n",
    "        \n",
    "        for para4 in para2.find_all('td',{'class': 'review-rating-stars stars'}):\n",
    "            para5 = len(para4.find_all('span', {'class' : 'star fill'}))\n",
    "            rating.append(para5)\n",
    "        rating.append(recomend)\n",
    "    \n",
    "        \n",
    "        for para6 in para2.find_all('td',{'class': 'review-rating-header'}):\n",
    "            category.append(para6.get_text())\n",
    "\n",
    "        # Build the dataframe from the dictionary.\n",
    "        data_dict = pd.DataFrame([rating], columns=category)\n",
    "        df = pd.concat([df,data_dict], ignore_index=True).reset_index(drop=True)\n",
    "        rating = []\n",
    "        category = []\n",
    "        \n",
    "    print(f\"--> {len(reviews)} total reviews\")\n",
    "\n",
    "df[\"reviews\"] = reviews"
   ]
  },
  {
   "cell_type": "code",
   "execution_count": 3,
   "id": "29e2ae44",
   "metadata": {},
   "outputs": [
    {
     "data": {
      "text/html": [
       "<div>\n",
       "<style scoped>\n",
       "    .dataframe tbody tr th:only-of-type {\n",
       "        vertical-align: middle;\n",
       "    }\n",
       "\n",
       "    .dataframe tbody tr th {\n",
       "        vertical-align: top;\n",
       "    }\n",
       "\n",
       "    .dataframe thead th {\n",
       "        text-align: right;\n",
       "    }\n",
       "</style>\n",
       "<table border=\"1\" class=\"dataframe\">\n",
       "  <thead>\n",
       "    <tr style=\"text-align: right;\">\n",
       "      <th></th>\n",
       "      <th>Aircraft</th>\n",
       "      <th>Type Of Traveller</th>\n",
       "      <th>Seat Type</th>\n",
       "      <th>Route</th>\n",
       "      <th>Date Flown</th>\n",
       "      <th>Seat Comfort</th>\n",
       "      <th>Cabin Staff Service</th>\n",
       "      <th>Food &amp; Beverages</th>\n",
       "      <th>Inflight Entertainment</th>\n",
       "      <th>Ground Service</th>\n",
       "      <th>Wifi &amp; Connectivity</th>\n",
       "      <th>Value For Money</th>\n",
       "      <th>Recommended</th>\n",
       "      <th>reviews</th>\n",
       "    </tr>\n",
       "  </thead>\n",
       "  <tbody>\n",
       "    <tr>\n",
       "      <th>0</th>\n",
       "      <td>A350</td>\n",
       "      <td>Couple Leisure</td>\n",
       "      <td>Economy Class</td>\n",
       "      <td>Phoenix to Lisbon via London</td>\n",
       "      <td>February 2024</td>\n",
       "      <td>1.0</td>\n",
       "      <td>5.0</td>\n",
       "      <td>3.0</td>\n",
       "      <td>3.0</td>\n",
       "      <td>1.0</td>\n",
       "      <td>1.0</td>\n",
       "      <td>1</td>\n",
       "      <td>no</td>\n",
       "      <td>Not Verified |  We have flown BA five times fr...</td>\n",
       "    </tr>\n",
       "    <tr>\n",
       "      <th>1</th>\n",
       "      <td>A320</td>\n",
       "      <td>Solo Leisure</td>\n",
       "      <td>Economy Class</td>\n",
       "      <td>London to Istanbul</td>\n",
       "      <td>February 2024</td>\n",
       "      <td>3.0</td>\n",
       "      <td>1.0</td>\n",
       "      <td>1.0</td>\n",
       "      <td>NaN</td>\n",
       "      <td>2.0</td>\n",
       "      <td>NaN</td>\n",
       "      <td>2</td>\n",
       "      <td>no</td>\n",
       "      <td>✅ Trip Verified |  London Heathrow to Istanbul...</td>\n",
       "    </tr>\n",
       "    <tr>\n",
       "      <th>2</th>\n",
       "      <td>Boeing 777</td>\n",
       "      <td>Solo Leisure</td>\n",
       "      <td>Premium Economy</td>\n",
       "      <td>Austin, TX to Shannon, Ireland via Austin</td>\n",
       "      <td>January 2024</td>\n",
       "      <td>3.0</td>\n",
       "      <td>5.0</td>\n",
       "      <td>3.0</td>\n",
       "      <td>3.0</td>\n",
       "      <td>4.0</td>\n",
       "      <td>NaN</td>\n",
       "      <td>2</td>\n",
       "      <td>no</td>\n",
       "      <td>Not Verified | Jan 30th, I booked a last-minut...</td>\n",
       "    </tr>\n",
       "    <tr>\n",
       "      <th>3</th>\n",
       "      <td>A380</td>\n",
       "      <td>Solo Leisure</td>\n",
       "      <td>First Class</td>\n",
       "      <td>London to San Francisco</td>\n",
       "      <td>November 2023</td>\n",
       "      <td>1.0</td>\n",
       "      <td>4.0</td>\n",
       "      <td>1.0</td>\n",
       "      <td>NaN</td>\n",
       "      <td>4.0</td>\n",
       "      <td>2.0</td>\n",
       "      <td>1</td>\n",
       "      <td>no</td>\n",
       "      <td>✅ Trip Verified | I am a British Airways Gold ...</td>\n",
       "    </tr>\n",
       "    <tr>\n",
       "      <th>4</th>\n",
       "      <td>NaN</td>\n",
       "      <td>Couple Leisure</td>\n",
       "      <td>Economy Class</td>\n",
       "      <td>London Heathrow to Casablanca</td>\n",
       "      <td>February 2024</td>\n",
       "      <td>NaN</td>\n",
       "      <td>NaN</td>\n",
       "      <td>NaN</td>\n",
       "      <td>NaN</td>\n",
       "      <td>1.0</td>\n",
       "      <td>NaN</td>\n",
       "      <td>1</td>\n",
       "      <td>no</td>\n",
       "      <td>Not Verified |  Another case of reviewing Brit...</td>\n",
       "    </tr>\n",
       "  </tbody>\n",
       "</table>\n",
       "</div>"
      ],
      "text/plain": [
       "     Aircraft Type Of Traveller        Seat Type  \\\n",
       "0        A350    Couple Leisure    Economy Class   \n",
       "1        A320      Solo Leisure    Economy Class   \n",
       "2  Boeing 777      Solo Leisure  Premium Economy   \n",
       "3        A380      Solo Leisure      First Class   \n",
       "4         NaN    Couple Leisure    Economy Class   \n",
       "\n",
       "                                       Route     Date Flown  Seat Comfort  \\\n",
       "0               Phoenix to Lisbon via London  February 2024           1.0   \n",
       "1                        London to Istanbul   February 2024           3.0   \n",
       "2  Austin, TX to Shannon, Ireland via Austin   January 2024           3.0   \n",
       "3                    London to San Francisco  November 2023           1.0   \n",
       "4              London Heathrow to Casablanca  February 2024           NaN   \n",
       "\n",
       "   Cabin Staff Service  Food & Beverages  Inflight Entertainment  \\\n",
       "0                  5.0               3.0                     3.0   \n",
       "1                  1.0               1.0                     NaN   \n",
       "2                  5.0               3.0                     3.0   \n",
       "3                  4.0               1.0                     NaN   \n",
       "4                  NaN               NaN                     NaN   \n",
       "\n",
       "   Ground Service  Wifi & Connectivity  Value For Money Recommended  \\\n",
       "0             1.0                  1.0                1          no   \n",
       "1             2.0                  NaN                2          no   \n",
       "2             4.0                  NaN                2          no   \n",
       "3             4.0                  2.0                1          no   \n",
       "4             1.0                  NaN                1          no   \n",
       "\n",
       "                                             reviews  \n",
       "0  Not Verified |  We have flown BA five times fr...  \n",
       "1  ✅ Trip Verified |  London Heathrow to Istanbul...  \n",
       "2  Not Verified | Jan 30th, I booked a last-minut...  \n",
       "3  ✅ Trip Verified | I am a British Airways Gold ...  \n",
       "4  Not Verified |  Another case of reviewing Brit...  "
      ]
     },
     "execution_count": 3,
     "metadata": {},
     "output_type": "execute_result"
    }
   ],
   "source": [
    "# Checking first 5 rows in dataframe:\n",
    "df.head()"
   ]
  },
  {
   "cell_type": "code",
   "execution_count": 4,
   "id": "1d91dfab",
   "metadata": {},
   "outputs": [
    {
     "data": {
      "text/plain": [
       "(1000, 14)"
      ]
     },
     "execution_count": 4,
     "metadata": {},
     "output_type": "execute_result"
    }
   ],
   "source": [
    "#checking data frame shape(No.of rows , No.of columns)\n",
    "df.shape"
   ]
  },
  {
   "cell_type": "code",
   "execution_count": 5,
   "id": "b26765a0",
   "metadata": {},
   "outputs": [
    {
     "name": "stdout",
     "output_type": "stream",
     "text": [
      "<class 'pandas.core.frame.DataFrame'>\n",
      "RangeIndex: 1000 entries, 0 to 999\n",
      "Data columns (total 14 columns):\n",
      " #   Column                  Non-Null Count  Dtype  \n",
      "---  ------                  --------------  -----  \n",
      " 0   Aircraft                533 non-null    object \n",
      " 1   Type Of Traveller       998 non-null    object \n",
      " 2   Seat Type               1000 non-null   object \n",
      " 3   Route                   997 non-null    object \n",
      " 4   Date Flown              1000 non-null   object \n",
      " 5   Seat Comfort            914 non-null    float64\n",
      " 6   Cabin Staff Service     907 non-null    float64\n",
      " 7   Food & Beverages        789 non-null    float64\n",
      " 8   Inflight Entertainment  525 non-null    float64\n",
      " 9   Ground Service          944 non-null    float64\n",
      " 10  Wifi & Connectivity     295 non-null    float64\n",
      " 11  Value For Money         1000 non-null   int64  \n",
      " 12  Recommended             1000 non-null   object \n",
      " 13  reviews                 1000 non-null   object \n",
      "dtypes: float64(6), int64(1), object(7)\n",
      "memory usage: 109.5+ KB\n"
     ]
    }
   ],
   "source": [
    "df.info()"
   ]
  },
  {
   "cell_type": "code",
   "execution_count": 6,
   "id": "e0d62a5b",
   "metadata": {},
   "outputs": [],
   "source": [
    "# Saving collected data in csv format:\n",
    "df.to_csv(\"BA_reviews.csv\", index=False)"
   ]
  },
  {
   "cell_type": "markdown",
   "id": "a3e71363",
   "metadata": {},
   "source": [
    "Now we have our dataset for this task! The loops above collected 1500 reviews by iterating through the paginated pages on the website. However, if you want to collect more data, try increasing the number of pages!"
   ]
  },
  {
   "cell_type": "code",
   "execution_count": null,
   "id": "1f40def9",
   "metadata": {},
   "outputs": [],
   "source": []
  }
 ],
 "metadata": {
  "kernelspec": {
   "display_name": "Python 3 (ipykernel)",
   "language": "python",
   "name": "python3"
  },
  "language_info": {
   "codemirror_mode": {
    "name": "ipython",
    "version": 3
   },
   "file_extension": ".py",
   "mimetype": "text/x-python",
   "name": "python",
   "nbconvert_exporter": "python",
   "pygments_lexer": "ipython3",
   "version": "3.11.5"
  }
 },
 "nbformat": 4,
 "nbformat_minor": 5
}
